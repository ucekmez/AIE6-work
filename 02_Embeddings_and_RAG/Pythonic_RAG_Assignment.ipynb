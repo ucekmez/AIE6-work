{
  "cells": [
    {
      "cell_type": "markdown",
      "metadata": {
        "id": "lElF3o5PR6ys"
      },
      "source": [
        "# Your First RAG Application\n",
        "\n",
        "In this notebook, we'll walk you through each of the components that are involved in a simple RAG application.\n",
        "\n",
        "We won't be leveraging any fancy tools, just the OpenAI Python SDK, Numpy, and some classic Python.\n",
        "\n",
        "> NOTE: This was done with Python 3.11.4.\n",
        "\n",
        "> NOTE: There might be [compatibility issues](https://github.com/wandb/wandb/issues/7683) if you're on NVIDIA driver >552.44 As an interim solution - you can rollback your drivers to the 552.44."
      ]
    },
    {
      "cell_type": "markdown",
      "metadata": {
        "id": "5CtcL8P8R6yt"
      },
      "source": [
        "## Table of Contents:\n",
        "\n",
        "- Task 1: Imports and Utilities\n",
        "- Task 2: Documents\n",
        "- Task 3: Embeddings and Vectors\n",
        "- Task 4: Prompts\n",
        "- Task 5: Retrieval Augmented Generation\n",
        "  - 🚧 Activity #1: Augment RAG"
      ]
    },
    {
      "cell_type": "markdown",
      "metadata": {
        "id": "1Dz6GYilR6yt"
      },
      "source": [
        "Let's look at a rather complicated looking visual representation of a basic RAG application.\n",
        "\n",
        "<img src=\"https://i.imgur.com/vD8b016.png\" />"
      ]
    },
    {
      "cell_type": "markdown",
      "metadata": {
        "id": "PjmC0KFtR6yt"
      },
      "source": [
        "## Task 1: Imports and Utility\n",
        "\n",
        "We're just doing some imports and enabling `async` to work within the Jupyter environment here, nothing too crazy!"
      ]
    },
    {
      "cell_type": "code",
      "execution_count": 1,
      "metadata": {},
      "outputs": [],
      "source": [
        "import os\n",
        "import openai\n",
        "from getpass import getpass\n",
        "\n",
        "openai.api_key = getpass(\"OpenAI API Key: \")\n",
        "os.environ[\"OPENAI_API_KEY\"] = openai.api_key"
      ]
    },
    {
      "cell_type": "code",
      "execution_count": 2,
      "metadata": {
        "id": "Z1dyrG4hR6yt"
      },
      "outputs": [],
      "source": [
        "from aimakerspace.text_utils import DocumentLoader, CharacterTextSplitter, SemanticTextSplitter\n",
        "from aimakerspace.vectordatabase import VectorDatabase\n",
        "import asyncio"
      ]
    },
    {
      "cell_type": "code",
      "execution_count": 3,
      "metadata": {
        "id": "9OrFZRnER6yt"
      },
      "outputs": [],
      "source": [
        "import nest_asyncio\n",
        "nest_asyncio.apply()"
      ]
    },
    {
      "cell_type": "markdown",
      "metadata": {
        "id": "M0jGnpQsR6yu"
      },
      "source": [
        "## Task 2: Documents\n",
        "\n",
        "We'll be concerning ourselves with this part of the flow in the following section:\n",
        "\n",
        "<img src=\"https://i.imgur.com/jTm9gjk.png\" />"
      ]
    },
    {
      "cell_type": "markdown",
      "metadata": {
        "id": "-SFPWvRUR6yu"
      },
      "source": [
        "### Loading Source Documents\n",
        "\n",
        "So, first things first, we need some documents to work with.\n",
        "\n",
        "While we could work directly with the `.txt` files (or whatever file-types you wanted to extend this to) we can instead do some batch processing of those documents at the beginning in order to store them in a more machine compatible format.\n",
        "\n",
        "In this case, we're going to parse our text file into a single document in memory.\n",
        "\n",
        "Let's look at the relevant bits of the `TextFileLoader` class:\n",
        "\n",
        "```python\n",
        "def load_file(self):\n",
        "        with open(self.path, \"r\", encoding=self.encoding) as f:\n",
        "            self.documents.append(f.read())\n",
        "```\n",
        "\n",
        "We're simply loading the document using the built in `open` method, and storing that output in our `self.documents` list.\n",
        "\n",
        "> NOTE: We're using blogs from PMarca (Marc Andreessen) as our sample data. This data is largely irrelevant as we want to focus on the mechanisms of RAG, which includes out data's shape and quality - but not specifically what the contents of the data are. \n"
      ]
    },
    {
      "cell_type": "code",
      "execution_count": 7,
      "metadata": {
        "colab": {
          "base_uri": "https://localhost:8080/"
        },
        "id": "Ia2sUEuGR6yu",
        "outputId": "84937ecc-c35f-4c4a-a4ab-9da72625954c"
      },
      "outputs": [
        {
          "data": {
            "text/plain": [
              "1"
            ]
          },
          "execution_count": 7,
          "metadata": {},
          "output_type": "execute_result"
        }
      ],
      "source": [
        "document_loader = DocumentLoader(\"data/ugur_cekmez_cv.pdf\")\n",
        "documents = document_loader.load_documents()\n",
        "len(documents)"
      ]
    },
    {
      "cell_type": "code",
      "execution_count": 9,
      "metadata": {},
      "outputs": [
        {
          "data": {
            "text/plain": [
              "[Document(page_content='Ugur Cekmez, PhD\n",
              " Phone: +90 (554) 253 5399\n",
              " Email: ...', metadata={'source': 'ugur_cekmez_cv.pdf'})]"
            ]
          },
          "execution_count": 9,
          "metadata": {},
          "output_type": "execute_result"
        }
      ],
      "source": [
        "documents"
      ]
    },
    {
      "cell_type": "code",
      "execution_count": 10,
      "metadata": {
        "colab": {
          "base_uri": "https://localhost:8080/"
        },
        "id": "bV-tj5WFR6yu",
        "outputId": "674eb315-1ff3-4597-bcf5-38ece0a812ac"
      },
      "outputs": [
        {
          "name": "stdout",
          "output_type": "stream",
          "text": [
            "Document(page_content='Ugur Cekmez, PhD\n",
            "Phone: +90 (554) 253 5399\n",
            "Email: ...', metadata={'source': 'ugur_cekmez_cv.pdf'})\n"
          ]
        }
      ],
      "source": [
        "print(documents[0])"
      ]
    },
    {
      "cell_type": "markdown",
      "metadata": {
        "id": "nHlTvCzYR6yu"
      },
      "source": [
        "### Splitting Text Into Chunks\n",
        "\n",
        "As we can see, there is one massive document.\n",
        "\n",
        "We'll want to chunk the document into smaller parts so it's easier to pass the most relevant snippets to the LLM.\n",
        "\n",
        "There is no fixed way to split/chunk documents - and you'll need to rely on some intuition as well as knowing your data *very* well in order to build the most robust system.\n",
        "\n",
        "For this toy example, we'll just split blindly on length.\n",
        "\n",
        ">There's an opportunity to clear up some terminology here, for this course we will be stick to the following:\n",
        ">\n",
        ">- \"source documents\" : The `.txt`, `.pdf`, `.html`, ..., files that make up the files and information we start with in its raw format\n",
        ">- \"document(s)\" : single (or more) text object(s)\n",
        ">- \"corpus\" : the combination of all of our documents"
      ]
    },
    {
      "cell_type": "markdown",
      "metadata": {
        "id": "2G6Voc0jR6yv"
      },
      "source": [
        "As you can imagine (though it's not specifically true in this toy example) the idea of splitting documents is to break them into managable sized chunks that retain the most relevant local context."
      ]
    },
    {
      "cell_type": "code",
      "execution_count": 11,
      "metadata": {
        "colab": {
          "base_uri": "https://localhost:8080/"
        },
        "id": "UMC4tsEmR6yv",
        "outputId": "08689c0b-57cd-4040-942a-8193e997f5cb"
      },
      "outputs": [
        {
          "name": "stdout",
          "output_type": "stream",
          "text": [
            "CharacterTextSplitter: 18\n",
            "\n",
            "--------------------------------\n",
            "\n",
            "Initialized SemanticTextSplitter with threshold type: percentile\n",
            "Starting semantic splitting on 1 document(s)...\n",
            "  - Document 1 split into 5 chunks.\n",
            "Semantic splitting resulted in 5 total chunks.\n",
            "SemanticTextSplitter: 5\n"
          ]
        }
      ],
      "source": [
        "text_splitter1 = CharacterTextSplitter()\n",
        "split_documents1 = text_splitter1.split_texts(documents)\n",
        "print(f\"CharacterTextSplitter: {len(split_documents1)}\")\n",
        "print(\"\\n--------------------------------\\n\")\n",
        "text_splitter = SemanticTextSplitter()\n",
        "split_documents = text_splitter.split_texts(documents)\n",
        "print(f\"SemanticTextSplitter: {len(split_documents)}\")"
      ]
    },
    {
      "cell_type": "markdown",
      "metadata": {
        "id": "W2wKT0WLR6yv"
      },
      "source": [
        "Let's take a look at some of the documents we've managed to split."
      ]
    },
    {
      "cell_type": "code",
      "execution_count": 12,
      "metadata": {
        "colab": {
          "base_uri": "https://localhost:8080/"
        },
        "id": "vcYMwWJoR6yv",
        "outputId": "20d69876-feca-4826-b4be-32915276987a"
      },
      "outputs": [
        {
          "data": {
            "text/plain": [
              "[Document(page_content='Ugur Cekmez, PhD\n",
              " Phone: +90 (554) 253 5399\n",
              " Email: ...', metadata={'source': 'ugur_cekmez_cv.pdf', 'chunk_num': 1})]"
            ]
          },
          "execution_count": 12,
          "metadata": {},
          "output_type": "execute_result"
        }
      ],
      "source": [
        "split_documents[0:1]"
      ]
    },
    {
      "cell_type": "markdown",
      "metadata": {
        "id": "HOU-RFP_R6yv"
      },
      "source": [
        "## Task 3: Embeddings and Vectors\n",
        "\n",
        "Next, we have to convert our corpus into a \"machine readable\" format as we explored in the Embedding Primer notebook.\n",
        "\n",
        "Today, we're going to talk about the actual process of creating, and then storing, these embeddings, and how we can leverage that to intelligently add context to our queries."
      ]
    },
    {
      "cell_type": "markdown",
      "metadata": {},
      "source": [
        "### OpenAI API Key\n",
        "\n",
        "In order to access OpenAI's APIs, we'll need to provide our OpenAI API Key!\n",
        "\n",
        "You can work through the folder \"OpenAI API Key Setup\" for more information on this process if you don't already have an API Key!"
      ]
    },
    {
      "cell_type": "code",
      "execution_count": 8,
      "metadata": {},
      "outputs": [],
      "source": [
        "# we moved it above for semantic chunker usage"
      ]
    },
    {
      "cell_type": "markdown",
      "metadata": {},
      "source": [
        "### Vector Database\n",
        "\n",
        "Let's set up our vector database to hold all our documents and their embeddings!"
      ]
    },
    {
      "cell_type": "markdown",
      "metadata": {
        "id": "kDQrfAR1R6yv"
      },
      "source": [
        "While this is all baked into 1 call - we can look at some of the code that powers this process to get a better understanding:\n",
        "\n",
        "Let's look at our `VectorDatabase().__init__()`:\n",
        "\n",
        "```python\n",
        "def __init__(self, embedding_model: EmbeddingModel = None):\n",
        "        self.vectors = defaultdict(np.array)\n",
        "        self.embedding_model = embedding_model or EmbeddingModel()\n",
        "```\n",
        "\n",
        "As you can see - our vectors are merely stored as a dictionary of `np.array` objects.\n",
        "\n",
        "Secondly, our `VectorDatabase()` has a default `EmbeddingModel()` which is a wrapper for OpenAI's `text-embedding-3-small` model.\n",
        "\n",
        "> **Quick Info About `text-embedding-3-small`**:\n",
        "> - It has a context window of **8191** tokens\n",
        "> - It returns vectors with dimension **1536**"
      ]
    },
    {
      "cell_type": "markdown",
      "metadata": {
        "id": "L273pRdeR6yv"
      },
      "source": [
        "#### ❓Question #1:\n",
        "\n",
        "The default embedding dimension of `text-embedding-3-small` is 1536, as noted above. \n",
        "\n",
        "1. Is there any way to modify this dimension?\n",
        "2. What technique does OpenAI use to achieve this?\n",
        "\n",
        "> NOTE: Check out this [API documentation](https://platform.openai.com/docs/api-reference/embeddings/create) for the answer to question #1, and [this documentation](https://platform.openai.com/docs/guides/embeddings/use-cases) for an answer to question #2!"
      ]
    },
    {
      "cell_type": "markdown",
      "metadata": {
        "id": "w5FZY7K3R6yv"
      },
      "source": [
        "We can call the `async_get_embeddings` method of our `EmbeddingModel()` on a list of `str` and receive a list of `float` back!\n",
        "\n",
        "```python\n",
        "async def async_get_embeddings(self, list_of_text: List[str]) -> List[List[float]]:\n",
        "        return await aget_embeddings(\n",
        "            list_of_text=list_of_text, engine=self.embeddings_model_name\n",
        "        )\n",
        "```"
      ]
    },
    {
      "cell_type": "markdown",
      "metadata": {
        "id": "cSct6X0aR6yv"
      },
      "source": [
        "We cast those to `np.array` when we build our `VectorDatabase()`:\n",
        "\n",
        "```python\n",
        "async def abuild_from_list(self, list_of_text: List[str]) -> \"VectorDatabase\":\n",
        "        embeddings = await self.embedding_model.async_get_embeddings(list_of_text)\n",
        "        for text, embedding in zip(list_of_text, embeddings):\n",
        "            self.insert(text, np.array(embedding))\n",
        "        return self\n",
        "```\n",
        "\n",
        "And that's all we need to do!"
      ]
    },
    {
      "cell_type": "code",
      "execution_count": 13,
      "metadata": {
        "id": "O4KoLbVDR6yv"
      },
      "outputs": [
        {
          "name": "stdout",
          "output_type": "stream",
          "text": [
            "Starting to build vector database from 5 documents...\n",
            "Successfully built vector database with 5 entries.\n"
          ]
        }
      ],
      "source": [
        "vector_db = VectorDatabase()\n",
        "vector_db = asyncio.run(vector_db.abuild_from_list(split_documents))"
      ]
    },
    {
      "cell_type": "markdown",
      "metadata": {
        "id": "SSZwaGvpR6yv"
      },
      "source": [
        "#### ❓Question #2:\n",
        "\n",
        "What are the benefits of using an `async` approach to collecting our embeddings?\n",
        "\n",
        "> NOTE: Determining the core difference between `async` and `sync` will be useful! If you get stuck - ask ChatGPT!"
      ]
    },
    {
      "cell_type": "markdown",
      "metadata": {
        "id": "nRBdIt-xR6yw"
      },
      "source": [
        "So, to review what we've done so far in natural language:\n",
        "\n",
        "1. We load source documents\n",
        "2. We split those source documents into smaller chunks (documents)\n",
        "3. We send each of those documents to the `text-embedding-3-small` OpenAI API endpoint\n",
        "4. We store each of the text representations with the vector representations as keys/values in a dictionary"
      ]
    },
    {
      "cell_type": "markdown",
      "metadata": {
        "id": "4-vWANZyR6yw"
      },
      "source": [
        "### Semantic Similarity\n",
        "\n",
        "The next step is to be able to query our `VectorDatabase()` with a `str` and have it return to us vectors and text that is most relevant from our corpus.\n",
        "\n",
        "We're going to use the following process to achieve this in our toy example:\n",
        "\n",
        "1. We need to embed our query with the same `EmbeddingModel()` as we used to construct our `VectorDatabase()`\n",
        "2. We loop through every vector in our `VectorDatabase()` and use a distance measure to compare how related they are\n",
        "3. We return a list of the top `k` closest vectors, with their text representations\n",
        "\n",
        "There's some very heavy optimization that can be done at each of these steps - but let's just focus on the basic pattern in this notebook.\n",
        "\n",
        "> We are using [cosine similarity](https://www.engati.com/glossary/cosine-similarity) as a distance metric in this example - but there are many many distance metrics you could use - like [these](https://flavien-vidal.medium.com/similarity-distances-for-natural-language-processing-16f63cd5ba55)\n",
        "\n",
        "> We are using a rather inefficient way of calculating relative distance between the query vector and all other vectors - there are more advanced approaches that are much more efficient, like [ANN](https://towardsdatascience.com/comprehensive-guide-to-approximate-nearest-neighbors-algorithms-8b94f057d6b6)"
      ]
    },
    {
      "cell_type": "code",
      "execution_count": 14,
      "metadata": {
        "colab": {
          "base_uri": "https://localhost:8080/"
        },
        "id": "76d96uavR6yw",
        "outputId": "bbfccc31-20a2-41c7-c14d-46554a43ed2d"
      },
      "outputs": [
        {
          "data": {
            "text/plain": [
              "[('Ugur Cekmez, PhD\\nPhone: +90 (554) 253 5399\\nEmail: ucekmez@gmail.com\\nSummary\\nWith a diverse background in AI and backend development, I have co-founded tech startups, secured multiple investments,\\nand served as an AI Advisor for several companies, while also making academic contributions as an Assistant Professor. Work Experience\\nCTO, Konstellate, Inc., USA\\nAug 2024–Present\\nLeading the development and deployment of cutting-edge AI-driven solutions that revolutionize the analysis of\\nKey Opinion Leader (KOL) content in the pharmaceutical sector. ugur@konstellate.com\\nCo-Founder, Technic Intelligence, Inc., USA\\nMarch 2023–Present\\ntechnic.ai, an early-stage technology company, is developing an AI inference engine that can operate efﬁciently on\\nvarious accelerated hardware. The product holds potential in edge computing and cloud applications, where it can\\noptimize decision-making processes, enhance reliability, and address privacy concerns.',\n",
              "  0.0,\n",
              "  {'source': 'ugur_cekmez_cv.pdf', 'chunk_num': 1}),\n",
              " ('Tools I’ve been utilizing:\\nNVIDIA DeepStream, Triton, Apache TVM, OpenVino, transfer learning, labeling and CV & LLM inferencing... ugur@technic.ai\\nBoard, SCADR Space, LLC., USA\\nMay 2023–Present\\nSCADR Space is an early-stage space-tech startup focusing on space-based computation and data routing solutions. By leveraging state-of-the-art technologies, SCADR points out to the satellite industry by providing efﬁcient data\\nprocessing and transmission services, reducing latency, bandwidth requirements, and power consumption. I’ve\\nbeen advising them on their AI infrastructure needs (mostly AI engines, object detection and tracking tasks)\\nugur@scadr.space\\nAI Advisor, HiveLogic AI, USA\\nMarch 2023–Present\\nHiveLogic specializes in unifying diverse sensors to provide actionable business insights through visualization and\\nAgentic AI. As AI Advisor, I guide the integration of AI technologies into their platform. AI Advisor, Hiri AI, TR\\nJan 2023–Present\\nHiri is an AI-backed HR platform that transforms the recruitment process with its smart and adaptive testing\\ncapabilities. It offers online tests including personal inventories, language & skill assessments, uniquely tailored\\nto each candidate based on their responses. With its custom interview workﬂow generation, Hiri brings efﬁciency\\nand accuracy to HR departments. In this position I’ve been advising (and writing) on LLM-powered hiring process\\nmanagement (smart candidate CV evaluation and interview postreports). ugur@hiri.ai\\nAssistant Professor, Biruni University, Computer Engineering Department, TR\\nMarch 2023–Present\\nI conduct ”AI Entrepreneurship“ and ”AI Applications“ courses where I mostly focus on recent LLM architectures\\nand micro-saas projects on top of language and vision models. ucekmez@biruni.edu.tr\\nUgur Cekmez, PhD\\n2\\nTechnical Lead, AI Solutions, Hai Cora Ltd., USA\\nFeb 2024–Aug 2024\\nLed AIOps @hai Cora (early-stage), creating truly human-like AI that can complete various tasks, engage in mean-\\ningful conversations, provide emotional support, advice, and companionship. In this project, I focused on devel-\\noping and integrating multiple concepts such as scalable RAG management, collaborative agents, function-calling\\nLLMs, creating personas and managing context windows, as well as speech-to-text, text-to-speech, voice cloning\\nand testing different types of frameworks (langchain, llamaindex, memgpt, crewai, autogen). Part-time Lecturer, Marmara University, Computer Engineering Department, TR\\nOct 2022–July 2023\\nAfter receiving my PhD, I conducted two courses: ”Artiﬁcial Neural Networks“ and ”Introduction to Machine\\nLearning“\\nLead MLOps Engineer, Chooch Intelligence Technologies, Co., USA\\nJune 2021–March 2023\\nI was responsible for designing, implementing and deploying the whole MLOps pipeline of a Visual AI prod-\\nuct, leading 6+ people by being fully active in almost every task in this ﬂow (including customer meetings and\\ncommercial & military-related deployments)\\nTechs I utilized: Python & FastAPI & Django, OCI (Docker), Tensorﬂow & PyTorch & ONNX, Nvidia Triton & DeepStream,\\nRedis & Kafka & MQTT, Node.js & Next.js, WebSockets\\nConcepts I worked: Continuous & production-ready scalable ML model deployment, GPU-powered video decoding with\\nGStreamer, robust API design with FastAPI, Airgapped-ready product deployment with Docker, Fullstack Edge-Inference\\npipeline\\nResearch Engineer, TRT - Turkish Radio and Television Corporation, Data&Insight Lab, TR\\nApril 2020–June 2021\\nI was responsible for developing and deploying AI-powered tasks, ETLs, DevOps pipelines, infrastructures at TRT\\nAI Lab. I also led the data engineers team there and implemented and deployed the personalisation engine of TRT\\nDinle 1 as well as the data infrastructure of TRT’s digital products. Experienced R&D Engineer, SIEMENS, Technology & Innovation Unit, TR\\nNovember 2018–February 2020\\nHere I was responsible for researching, proposing and implementing innovative tech ideas. I used all my tech\\nstack that had mentioned in previous positions. I also worked as a solution architect jointly with other members\\nof the team to develop in-house projects involving AI, hybrid/mobile, cloud and container technologies. Some key\\nprojects I was involved :\\n- Virtual Device Management: I designed and implemented a digital twin concept for smart IoT devices capable\\nof installing custom apps and monitoring possible versioning and hardware loading scenarios. It was build on\\na Docker-powered light environment where multiple devices can be created, customized and monitored\\n- DigiHome: I was responsible for re-implementing the architecture of a low-cost digital home concept with\\nAmazon AWS services where Amplify, GraphQL, AppSync, DynamoDB, Cognito and related services were\\nhighly used. The front-end was made with React. Senior Researcher, TUBITAK BILGEM Cloud Computing & Big Data Research Lab, TR\\nApril 2017–November 2018\\nMy position involved using cloud technologies, making inferences with data intelligence and empowering apps\\nwith artiﬁcial intelligence approaches. I worked on parallel deep learning approaches. Some of my projects were\\ndetermining anomaly behaviors of ECG data, predicting possible future CPU loads of virtual machines in cloud en-\\nvironment and developing a machine learning as a service (MLaaS) product (including re-implementation of many\\nML and DL applications from both their scientiﬁc papers and github repos those are ranging from text summariza-\\ntion/tagging/diff, object recognition/detection, plate recognition to anomaly detection and stock prediction etc. and corresponding UIs with python and react). While researching the AI models, I also developed their engine to\\nrun as scalable containers by using microservice architectures. I also prepared backends and APIs (Falcon/fastAPI\\nof Python). I was also one of the members of cloud team that’s responsible of developing our DevOps processes. For this aim, we developed a Jenkins-centered DevOps pipeline. The requirements included github and unit-tests\\nintegration, code coverage tests and deploying the developer codes out to microservices via mentioned tools. 1www.trtdinle.com\\nUgur Cekmez, PhD\\n3\\nCo-Founder, General Manager, Fili Labs R&D and Software Solutions Ltd\\nNovember 2014–December 2019\\nI founded a start-up company to carry out a government-funded (TUBITAK TEYDEB 1512) research project which\\nwas about developing an interactive personality inventory to make better decisions of hiring. Research&Teaching Assistant, Yıldız Technical University, Computer Engineering Department, TR\\nFebruary 2013–April 2017\\nI was responsible of managing and assisting some of the computer hardware and science lessons for the 1st, 2nd\\nand 3rd year students. Lectures I helped with: Logical Circuits, Circuit Theory, Electronic Circuits, Microprocessors, Formal Languages,\\nNetwork Technologies, Data Structures and Algorithms, Operating Systems, Programming Languages, Introduction\\nto Computer Graphics\\nFreelance, Researcher & Full Stack Developer\\n2007–Present\\nAlong with my regular jobs, I also work as a freelancer researcher/app developer if I see an awesome opportunity\\nto strengthen my abilities. Currently, I’m able to design and implement an end-to-end full-stack system that’s com-\\nposed of 1) machine learning models (working as a computation engine), 2) Async Python APIs (communicating\\nwith models, databases and frontends), 3) backends / frontends (with node.js using next.js/react) and 4) microser-\\nvice architecture (to containarize applications in a highly available environment with Docker and Kubernetes/Cloud\\nFoundry). Part-Time Developer, @ Various Companies:\\nJune 2010–September 2011\\nSoftware Developer (Mostly Python/Django Development), Egnity: I used wordpress and django to create web\\napplications answering customer needs and prepared backends for some Facebook apps using Facebook API back\\nthen. Webmaster, Istanbul Bilgi University - Computer Science Department: I designed, implemented and maintained\\na web application that’s able to stream videos of some of the computer science lectures (website once called\\nvideo.cs.bilgi.edu.tr). Webmaster, Akinon Design Studio: Here I ﬁgured out the power of Python and Django. Akinon was one of the\\nearly (Turkey-based) commercial users of Django. While contributing to the customer projects, I learned many\\nthings which I still beneﬁt from.',\n",
              "  0.0,\n",
              "  {'source': 'ugur_cekmez_cv.pdf', 'chunk_num': 2}),\n",
              " ('Education\\nPhD. Computer Engineering, Institute of Pure and Applied Sciences, Marmara University, 2022,\\nMSc. Computer Engineering, Aeronautics and Space Technologies Institute, Turkish Air Force Academy, 2014,\\nBSc. Computer Science, Faculty of Arts and Sciences, Istanbul Bilgi University, 2012,\\nBSc. (erasmus) Computer Science, Science Faculty, Aarhus University, Denmark, 2011,\\nStudy/Work ﬁelds\\nMachine Learning, Deep Learning, Data Intelligence, Massively Parallel Systems (GPGPU), Evolutionary Computation,\\nMicroservices, Software Engineering, Software Project Management, Innovation. Computer Skills\\nProgramming and Scripting : Python, JavaScript, LATEX, Bash, CUDA C, Solidity\\nFrameworks : Tensorﬂow 2.0 for Deep Learning. React/React-Native/Next.js for full-stack/hybrid development. FastAPI\\nand Express for backend development, Docker and related container technologies for deploying apps, Redis for cache\\nand queue management, Kafka for message transmission, and pretty much the other stuff related to Machine Learning\\nSystems Engineering (MLOps)\\nUgur Cekmez, PhD\\n4\\nHonors & Awards & Investments\\n$100K pre-seed funding for Technic Intelligence, Inc. —– Certiﬁcate of Merit award for a research in 2014 2 —–\\nTUBITAK 1512 Start-up Company Investment Support, ≈$45K, November 2014 —– BSc Honor Degree, Istanbul Bilgi\\nUniversity, 2012 —– European Union Grant for Exchange Studies, Denmark, Spring 2011 —– Istanbul Bilgi University\\nScholarship for BSc, 2009-2010 —– Student Selection and Placement Center (OSYM) Scholarship for BSc, 2008–2012. Research\\nCompleted Papers\\nData-Oriented Network Attack Classiﬁcation System with Deep Learning for the Internet of Things (PhD thesis)\\nInternet of Things (IoTs) Security: Intrusion Detection using Deep Learning 3\\nDevOps Architecture in the Cloud, 4\\nNetwork Anomaly Detection with Deep Learning, 5\\nMulti-UAV Path Planning with Multi Colony Ant Optimization, 6\\nCells Classiﬁcation with Deep Learning, 7\\nMulti-UAV Path Planning with Parallel Genetic Algorithms on CUDA Architecture, 8\\nMulti Colony Ant Optimization for UAV Path Planning with Obstacle Avoidance, 9\\nControlling Moving Targets by using Unmanned Aerial Vehicles, 10\\nParallel Solution of Large Scale Traveling Salesman Problems by using Clustering and Evolutionary Algorithms, 11\\nUAV Path Planning with Parallel Genetic Algorithms on CUDA architecture, 12\\nA UAV Path Planning with Parallel ACO Algorithm on CUDA Platform, 13\\nParallel Ant Colony Optimisation for UAV Route Planning on CUDA Architecture, 14\\nAdapting the GA Approach to Solve Traveling Salesman Problems on CUDA Architecture, 15\\nAdaptive Cut Level Selection at Agglomerative Clustering Algorithms in Co-Word Analysis, 16\\nBook Chapters\\nArtiﬁcial Intelligence Studies in Health Services and Medical Images (in Turkish). 17\\nJournal & Paper Reviews\\nIEEE Access Journal, ’23\\nJournal of Web Engineering, ’21\\nICUAS ’14 - ’16 - ’17, ’20 International Conference on Unmanned Aircraft Systems, USA\\nSIU ’16 - ’17 - ’18, IEEE Conference on Signal Processing and Communications Applications, Turkey\\nNeural Computing & Applications Journal, March ’16.',\n",
              "  0.0,\n",
              "  {'source': 'ugur_cekmez_cv.pdf', 'chunk_num': 3})]"
            ]
          },
          "execution_count": 14,
          "metadata": {},
          "output_type": "execute_result"
        }
      ],
      "source": [
        "vector_db.search_by_text(\"What's ugur's latest job\", k=3)"
      ]
    },
    {
      "cell_type": "markdown",
      "metadata": {
        "id": "TehsfIiKR6yw"
      },
      "source": [
        "## Task 4: Prompts\n",
        "\n",
        "In the following section, we'll be looking at the role of prompts - and how they help us to guide our application in the right direction.\n",
        "\n",
        "In this notebook, we're going to rely on the idea of \"zero-shot in-context learning\".\n",
        "\n",
        "This is a lot of words to say: \"We will ask it to perform our desired task in the prompt, and provide no examples.\""
      ]
    },
    {
      "cell_type": "markdown",
      "metadata": {
        "id": "yXpA0UveR6yw"
      },
      "source": [
        "### XYZRolePrompt\n",
        "\n",
        "Before we do that, let's stop and think a bit about how OpenAI's chat models work.\n",
        "\n",
        "We know they have roles - as is indicated in the following API [documentation](https://platform.openai.com/docs/api-reference/chat/create#chat/create-messages)\n",
        "\n",
        "There are three roles, and they function as follows (taken directly from [OpenAI](https://platform.openai.com/docs/guides/gpt/chat-completions-api)):\n",
        "\n",
        "- `{\"role\" : \"system\"}` : The system message helps set the behavior of the assistant. For example, you can modify the personality of the assistant or provide specific instructions about how it should behave throughout the conversation. However note that the system message is optional and the model’s behavior without a system message is likely to be similar to using a generic message such as \"You are a helpful assistant.\"\n",
        "- `{\"role\" : \"user\"}` : The user messages provide requests or comments for the assistant to respond to.\n",
        "- `{\"role\" : \"assistant\"}` : Assistant messages store previous assistant responses, but can also be written by you to give examples of desired behavior.\n",
        "\n",
        "The main idea is this:\n",
        "\n",
        "1. You start with a system message that outlines how the LLM should respond, what kind of behaviours you can expect from it, and more\n",
        "2. Then, you can provide a few examples in the form of \"assistant\"/\"user\" pairs\n",
        "3. Then, you prompt the model with the true \"user\" message.\n",
        "\n",
        "In this example, we'll be forgoing the 2nd step for simplicities sake."
      ]
    },
    {
      "cell_type": "markdown",
      "metadata": {
        "id": "gdZ2KWKSR6yw"
      },
      "source": [
        "#### Utility Functions\n",
        "\n",
        "You'll notice that we're using some utility functions from the `aimakerspace` module - let's take a peek at these and see what they're doing!"
      ]
    },
    {
      "cell_type": "markdown",
      "metadata": {
        "id": "GFbeJDDsR6yw"
      },
      "source": [
        "##### XYZRolePrompt"
      ]
    },
    {
      "cell_type": "markdown",
      "metadata": {
        "id": "5mojJSE3R6yw"
      },
      "source": [
        "Here we have our `system`, `user`, and `assistant` role prompts.\n",
        "\n",
        "Let's take a peek at what they look like:\n",
        "\n",
        "```python\n",
        "class BasePrompt:\n",
        "    def __init__(self, prompt):\n",
        "        \"\"\"\n",
        "        Initializes the BasePrompt object with a prompt template.\n",
        "\n",
        "        :param prompt: A string that can contain placeholders within curly braces\n",
        "        \"\"\"\n",
        "        self.prompt = prompt\n",
        "        self._pattern = re.compile(r\"\\{([^}]+)\\}\")\n",
        "\n",
        "    def format_prompt(self, **kwargs):\n",
        "        \"\"\"\n",
        "        Formats the prompt string using the keyword arguments provided.\n",
        "\n",
        "        :param kwargs: The values to substitute into the prompt string\n",
        "        :return: The formatted prompt string\n",
        "        \"\"\"\n",
        "        matches = self._pattern.findall(self.prompt)\n",
        "        return self.prompt.format(**{match: kwargs.get(match, \"\") for match in matches})\n",
        "\n",
        "    def get_input_variables(self):\n",
        "        \"\"\"\n",
        "        Gets the list of input variable names from the prompt string.\n",
        "\n",
        "        :return: List of input variable names\n",
        "        \"\"\"\n",
        "        return self._pattern.findall(self.prompt)\n",
        "```\n",
        "\n",
        "Then we have our `RolePrompt` which laser focuses us on the role pattern found in most API endpoints for LLMs.\n",
        "\n",
        "```python\n",
        "class RolePrompt(BasePrompt):\n",
        "    def __init__(self, prompt, role: str):\n",
        "        \"\"\"\n",
        "        Initializes the RolePrompt object with a prompt template and a role.\n",
        "\n",
        "        :param prompt: A string that can contain placeholders within curly braces\n",
        "        :param role: The role for the message ('system', 'user', or 'assistant')\n",
        "        \"\"\"\n",
        "        super().__init__(prompt)\n",
        "        self.role = role\n",
        "\n",
        "    def create_message(self, **kwargs):\n",
        "        \"\"\"\n",
        "        Creates a message dictionary with a role and a formatted message.\n",
        "\n",
        "        :param kwargs: The values to substitute into the prompt string\n",
        "        :return: Dictionary containing the role and the formatted message\n",
        "        \"\"\"\n",
        "        return {\"role\": self.role, \"content\": self.format_prompt(**kwargs)}\n",
        "```\n",
        "\n",
        "We'll look at how the `SystemRolePrompt` is constructed to get a better idea of how that extension works:\n",
        "\n",
        "```python\n",
        "class SystemRolePrompt(RolePrompt):\n",
        "    def __init__(self, prompt: str):\n",
        "        super().__init__(prompt, \"system\")\n",
        "```\n",
        "\n",
        "That pattern is repeated for our `UserRolePrompt` and our `AssistantRolePrompt` as well."
      ]
    },
    {
      "cell_type": "markdown",
      "metadata": {
        "id": "D361R6sMR6yw"
      },
      "source": [
        "##### ChatOpenAI"
      ]
    },
    {
      "cell_type": "markdown",
      "metadata": {
        "id": "HJVQ2Pm8R6yw"
      },
      "source": [
        "Next we have our model, which is converted to a format analagous to libraries like LangChain and LlamaIndex.\n",
        "\n",
        "Let's take a peek at how that is constructed:\n",
        "\n",
        "```python\n",
        "class ChatOpenAI:\n",
        "    def __init__(self, model_name: str = \"gpt-4o-mini\"):\n",
        "        self.model_name = model_name\n",
        "        self.openai_api_key = os.getenv(\"OPENAI_API_KEY\")\n",
        "        if self.openai_api_key is None:\n",
        "            raise ValueError(\"OPENAI_API_KEY is not set\")\n",
        "\n",
        "    def run(self, messages, text_only: bool = True):\n",
        "        if not isinstance(messages, list):\n",
        "            raise ValueError(\"messages must be a list\")\n",
        "\n",
        "        openai.api_key = self.openai_api_key\n",
        "        response = openai.ChatCompletion.create(\n",
        "            model=self.model_name, messages=messages\n",
        "        )\n",
        "\n",
        "        if text_only:\n",
        "            return response.choices[0].message.content\n",
        "\n",
        "        return response\n",
        "```"
      ]
    },
    {
      "cell_type": "markdown",
      "metadata": {
        "id": "qCU7FfhIR6yw"
      },
      "source": [
        "#### ❓ Question #3:\n",
        "\n",
        "When calling the OpenAI API - are there any ways we can achieve more reproducible outputs?\n",
        "\n",
        "> NOTE: Check out [this section](https://platform.openai.com/docs/guides/text-generation/) of the OpenAI documentation for the answer!"
      ]
    },
    {
      "cell_type": "markdown",
      "metadata": {
        "id": "c5wcjMLCR6yw"
      },
      "source": [
        "### Creating and Prompting OpenAI's `gpt-4o-mini`!\n",
        "\n",
        "Let's tie all these together and use it to prompt `gpt-4o-mini`!"
      ]
    },
    {
      "cell_type": "code",
      "execution_count": 15,
      "metadata": {
        "id": "WIfpIot7R6yw"
      },
      "outputs": [],
      "source": [
        "from aimakerspace.openai_utils.prompts import (\n",
        "    UserRolePrompt,\n",
        "    SystemRolePrompt,\n",
        "    AssistantRolePrompt,\n",
        ")\n",
        "\n",
        "from aimakerspace.openai_utils.chatmodel import ChatOpenAI\n",
        "\n",
        "chat_openai = ChatOpenAI()\n",
        "user_prompt_template = \"{content}\"\n",
        "user_role_prompt = UserRolePrompt(user_prompt_template)\n",
        "system_prompt_template = (\n",
        "    \"You are an expert in {expertise}, you always answer in a kind way.\"\n",
        ")\n",
        "system_role_prompt = SystemRolePrompt(system_prompt_template)\n",
        "\n",
        "messages = [\n",
        "    system_role_prompt.create_message(expertise=\"Python\"),\n",
        "    user_role_prompt.create_message(\n",
        "        content=\"What is the best way to write a loop?\"\n",
        "    ),\n",
        "]\n",
        "\n",
        "response = chat_openai.run(messages)"
      ]
    },
    {
      "cell_type": "code",
      "execution_count": 16,
      "metadata": {
        "colab": {
          "base_uri": "https://localhost:8080/"
        },
        "id": "dHo7lssNR6yw",
        "outputId": "1d3823fa-bb6b-45f6-ddba-b41686388324"
      },
      "outputs": [
        {
          "name": "stdout",
          "output_type": "stream",
          "text": [
            "The best way to write a loop in Python often depends on the specific task you want to accomplish. Here are some common types of loops and best practices for each:\n",
            "\n",
            "### 1. For Loop\n",
            "A `for` loop is ideal for iterating over sequences (like lists, tuples, or strings) or objects that are iterable.\n",
            "\n",
            "```python\n",
            "# Example of a for loop\n",
            "fruits = ['apple', 'banana', 'cherry']\n",
            "for fruit in fruits:\n",
            "    print(fruit)\n",
            "```\n",
            "\n",
            "**Best Practices:**\n",
            "- Use descriptive variable names for better clarity.\n",
            "- If you need to access both index and value, consider using `enumerate()`:\n",
            "\n",
            "```python\n",
            "for index, fruit in enumerate(fruits):\n",
            "    print(f\"{index}: {fruit}\")\n",
            "```\n",
            "\n",
            "### 2. While Loop\n",
            "A `while` loop is used when you want to repeat an action until a certain condition becomes false.\n",
            "\n",
            "```python\n",
            "# Example of a while loop\n",
            "count = 0\n",
            "while count < 5:\n",
            "    print(count)\n",
            "    count += 1\n",
            "```\n",
            "\n",
            "**Best Practices:**\n",
            "- Ensure that the loop has a condition that will eventually become false to avoid infinite loops.\n",
            "- Keep the loop body simple to maintain clarity.\n",
            "\n",
            "### 3. Using Loop Control Statements\n",
            "You can use `break` to exit the loop early and `continue` to skip the current iteration and move to the next.\n",
            "\n",
            "```python\n",
            "for number in range(10):\n",
            "    if number == 5:\n",
            "        break  # Exit the loop when number is 5\n",
            "    print(number)\n",
            "\n",
            "for number in range(5):\n",
            "    if number == 2:\n",
            "        continue  # Skip the rest of the loop body\n",
            "    print(number)\n",
            "```\n",
            "\n",
            "### 4. List Comprehensions\n",
            "For creating lists, consider using list comprehensions, which can be more succinct and often faster than traditional loops.\n",
            "\n",
            "```python\n",
            "squares = [x**2 for x in range(10)]\n",
            "print(squares)\n",
            "```\n",
            "\n",
            "### Summary\n",
            "- Choose `for` loops for known iterations and `while` loops for conditions.\n",
            "- Use `enumerate()` for accessing index and value in a `for` loop.\n",
            "- Avoid infinite loops in `while`.\n",
            "- Utilize list comprehensions for concise list creation.\n",
            "\n",
            "Consider your specific use case, and choose the type of loop that best fits your needs while adhering to these best practices! If you have a specific scenario in mind, feel free to share, and I'd be happy to help you with that.\n"
          ]
        }
      ],
      "source": [
        "print(response)"
      ]
    },
    {
      "cell_type": "markdown",
      "metadata": {
        "id": "r2nxxhB2R6yy"
      },
      "source": [
        "## Task 5: Retrieval Augmented Generation\n",
        "\n",
        "Now we can create a RAG prompt - which will help our system behave in a way that makes sense!\n",
        "\n",
        "There is much you could do here, many tweaks and improvements to be made!"
      ]
    },
    {
      "cell_type": "code",
      "execution_count": 17,
      "metadata": {
        "id": "D1hamzGaR6yy"
      },
      "outputs": [],
      "source": [
        "RAG_PROMPT_TEMPLATE = \"\"\" \\\n",
        "Use the provided context to answer the user's query.\n",
        "\n",
        "You may not answer the user's query unless there is specific context in the following text.\n",
        "\n",
        "If you do not know the answer, or cannot answer, please respond with \"I don't know\".\n",
        "\"\"\"\n",
        "\n",
        "rag_prompt = SystemRolePrompt(RAG_PROMPT_TEMPLATE)\n",
        "\n",
        "USER_PROMPT_TEMPLATE = \"\"\" \\\n",
        "Context:\n",
        "{context}\n",
        "\n",
        "User Query:\n",
        "{user_query}\n",
        "\"\"\"\n",
        "\n",
        "\n",
        "user_prompt = UserRolePrompt(USER_PROMPT_TEMPLATE)\n",
        "\n",
        "class RetrievalAugmentedQAPipeline:\n",
        "    def __init__(self, llm: ChatOpenAI(), vector_db_retriever: VectorDatabase) -> None:\n",
        "        self.llm = llm\n",
        "        self.vector_db_retriever = vector_db_retriever\n",
        "\n",
        "    def run_pipeline(self, user_query: str) -> str:\n",
        "        context_list = self.vector_db_retriever.search_by_text(user_query, k=4)\n",
        "\n",
        "        context_prompt = \"\"\n",
        "        for context in context_list:\n",
        "            context_prompt += context[0] + \"\\n\"\n",
        "\n",
        "        formatted_system_prompt = rag_prompt.create_message()\n",
        "\n",
        "        formatted_user_prompt = user_prompt.create_message(user_query=user_query, context=context_prompt)\n",
        "\n",
        "        return {\"response\" : self.llm.run([formatted_system_prompt, formatted_user_prompt]), \"context\" : context_list}"
      ]
    },
    {
      "cell_type": "markdown",
      "metadata": {
        "id": "zZIJI19uR6yz"
      },
      "source": [
        "#### ❓ Question #4:\n",
        "\n",
        "What prompting strategies could you use to make the LLM have a more thoughtful, detailed response?\n",
        "\n",
        "What is that strategy called?\n",
        "\n",
        "> NOTE: You can look through [\"Accessing GPT-3.5-turbo Like a Developer\"](https://colab.research.google.com/drive/1mOzbgf4a2SP5qQj33ZxTz2a01-5eXqk2?usp=sharing) for an answer to this question if you get stuck!"
      ]
    },
    {
      "cell_type": "code",
      "execution_count": 18,
      "metadata": {
        "id": "kqbE9fZ6R6yz"
      },
      "outputs": [],
      "source": [
        "retrieval_augmented_qa_pipeline = RetrievalAugmentedQAPipeline(\n",
        "    vector_db_retriever=vector_db,\n",
        "    llm=chat_openai\n",
        ")"
      ]
    },
    {
      "cell_type": "code",
      "execution_count": 19,
      "metadata": {
        "colab": {
          "base_uri": "https://localhost:8080/"
        },
        "id": "jAGhaCGOR6yz",
        "outputId": "e4fb3a1b-d2bc-4e18-ec31-dc0adf767163"
      },
      "outputs": [
        {
          "data": {
            "text/plain": [
              "{'response': \"Ugur's latest job is CTO at Konstellate, Inc., USA, which he started in August 2024.\",\n",
              " 'context': [('Ugur Cekmez, PhD\\nPhone: +90 (554) 253 5399\\nEmail: ucekmez@gmail.com\\nSummary\\nWith a diverse background in AI and backend development, I have co-founded tech startups, secured multiple investments,\\nand served as an AI Advisor for several companies, while also making academic contributions as an Assistant Professor. Work Experience\\nCTO, Konstellate, Inc., USA\\nAug 2024–Present\\nLeading the development and deployment of cutting-edge AI-driven solutions that revolutionize the analysis of\\nKey Opinion Leader (KOL) content in the pharmaceutical sector. ugur@konstellate.com\\nCo-Founder, Technic Intelligence, Inc., USA\\nMarch 2023–Present\\ntechnic.ai, an early-stage technology company, is developing an AI inference engine that can operate efﬁciently on\\nvarious accelerated hardware. The product holds potential in edge computing and cloud applications, where it can\\noptimize decision-making processes, enhance reliability, and address privacy concerns.',\n",
              "   0.0,\n",
              "   {'source': 'ugur_cekmez_cv.pdf', 'chunk_num': 1}),\n",
              "  ('Tools I’ve been utilizing:\\nNVIDIA DeepStream, Triton, Apache TVM, OpenVino, transfer learning, labeling and CV & LLM inferencing... ugur@technic.ai\\nBoard, SCADR Space, LLC., USA\\nMay 2023–Present\\nSCADR Space is an early-stage space-tech startup focusing on space-based computation and data routing solutions. By leveraging state-of-the-art technologies, SCADR points out to the satellite industry by providing efﬁcient data\\nprocessing and transmission services, reducing latency, bandwidth requirements, and power consumption. I’ve\\nbeen advising them on their AI infrastructure needs (mostly AI engines, object detection and tracking tasks)\\nugur@scadr.space\\nAI Advisor, HiveLogic AI, USA\\nMarch 2023–Present\\nHiveLogic specializes in unifying diverse sensors to provide actionable business insights through visualization and\\nAgentic AI. As AI Advisor, I guide the integration of AI technologies into their platform. AI Advisor, Hiri AI, TR\\nJan 2023–Present\\nHiri is an AI-backed HR platform that transforms the recruitment process with its smart and adaptive testing\\ncapabilities. It offers online tests including personal inventories, language & skill assessments, uniquely tailored\\nto each candidate based on their responses. With its custom interview workﬂow generation, Hiri brings efﬁciency\\nand accuracy to HR departments. In this position I’ve been advising (and writing) on LLM-powered hiring process\\nmanagement (smart candidate CV evaluation and interview postreports). ugur@hiri.ai\\nAssistant Professor, Biruni University, Computer Engineering Department, TR\\nMarch 2023–Present\\nI conduct ”AI Entrepreneurship“ and ”AI Applications“ courses where I mostly focus on recent LLM architectures\\nand micro-saas projects on top of language and vision models. ucekmez@biruni.edu.tr\\nUgur Cekmez, PhD\\n2\\nTechnical Lead, AI Solutions, Hai Cora Ltd., USA\\nFeb 2024–Aug 2024\\nLed AIOps @hai Cora (early-stage), creating truly human-like AI that can complete various tasks, engage in mean-\\ningful conversations, provide emotional support, advice, and companionship. In this project, I focused on devel-\\noping and integrating multiple concepts such as scalable RAG management, collaborative agents, function-calling\\nLLMs, creating personas and managing context windows, as well as speech-to-text, text-to-speech, voice cloning\\nand testing different types of frameworks (langchain, llamaindex, memgpt, crewai, autogen). Part-time Lecturer, Marmara University, Computer Engineering Department, TR\\nOct 2022–July 2023\\nAfter receiving my PhD, I conducted two courses: ”Artiﬁcial Neural Networks“ and ”Introduction to Machine\\nLearning“\\nLead MLOps Engineer, Chooch Intelligence Technologies, Co., USA\\nJune 2021–March 2023\\nI was responsible for designing, implementing and deploying the whole MLOps pipeline of a Visual AI prod-\\nuct, leading 6+ people by being fully active in almost every task in this ﬂow (including customer meetings and\\ncommercial & military-related deployments)\\nTechs I utilized: Python & FastAPI & Django, OCI (Docker), Tensorﬂow & PyTorch & ONNX, Nvidia Triton & DeepStream,\\nRedis & Kafka & MQTT, Node.js & Next.js, WebSockets\\nConcepts I worked: Continuous & production-ready scalable ML model deployment, GPU-powered video decoding with\\nGStreamer, robust API design with FastAPI, Airgapped-ready product deployment with Docker, Fullstack Edge-Inference\\npipeline\\nResearch Engineer, TRT - Turkish Radio and Television Corporation, Data&Insight Lab, TR\\nApril 2020–June 2021\\nI was responsible for developing and deploying AI-powered tasks, ETLs, DevOps pipelines, infrastructures at TRT\\nAI Lab. I also led the data engineers team there and implemented and deployed the personalisation engine of TRT\\nDinle 1 as well as the data infrastructure of TRT’s digital products. Experienced R&D Engineer, SIEMENS, Technology & Innovation Unit, TR\\nNovember 2018–February 2020\\nHere I was responsible for researching, proposing and implementing innovative tech ideas. I used all my tech\\nstack that had mentioned in previous positions. I also worked as a solution architect jointly with other members\\nof the team to develop in-house projects involving AI, hybrid/mobile, cloud and container technologies. Some key\\nprojects I was involved :\\n- Virtual Device Management: I designed and implemented a digital twin concept for smart IoT devices capable\\nof installing custom apps and monitoring possible versioning and hardware loading scenarios. It was build on\\na Docker-powered light environment where multiple devices can be created, customized and monitored\\n- DigiHome: I was responsible for re-implementing the architecture of a low-cost digital home concept with\\nAmazon AWS services where Amplify, GraphQL, AppSync, DynamoDB, Cognito and related services were\\nhighly used. The front-end was made with React. Senior Researcher, TUBITAK BILGEM Cloud Computing & Big Data Research Lab, TR\\nApril 2017–November 2018\\nMy position involved using cloud technologies, making inferences with data intelligence and empowering apps\\nwith artiﬁcial intelligence approaches. I worked on parallel deep learning approaches. Some of my projects were\\ndetermining anomaly behaviors of ECG data, predicting possible future CPU loads of virtual machines in cloud en-\\nvironment and developing a machine learning as a service (MLaaS) product (including re-implementation of many\\nML and DL applications from both their scientiﬁc papers and github repos those are ranging from text summariza-\\ntion/tagging/diff, object recognition/detection, plate recognition to anomaly detection and stock prediction etc. and corresponding UIs with python and react). While researching the AI models, I also developed their engine to\\nrun as scalable containers by using microservice architectures. I also prepared backends and APIs (Falcon/fastAPI\\nof Python). I was also one of the members of cloud team that’s responsible of developing our DevOps processes. For this aim, we developed a Jenkins-centered DevOps pipeline. The requirements included github and unit-tests\\nintegration, code coverage tests and deploying the developer codes out to microservices via mentioned tools. 1www.trtdinle.com\\nUgur Cekmez, PhD\\n3\\nCo-Founder, General Manager, Fili Labs R&D and Software Solutions Ltd\\nNovember 2014–December 2019\\nI founded a start-up company to carry out a government-funded (TUBITAK TEYDEB 1512) research project which\\nwas about developing an interactive personality inventory to make better decisions of hiring. Research&Teaching Assistant, Yıldız Technical University, Computer Engineering Department, TR\\nFebruary 2013–April 2017\\nI was responsible of managing and assisting some of the computer hardware and science lessons for the 1st, 2nd\\nand 3rd year students. Lectures I helped with: Logical Circuits, Circuit Theory, Electronic Circuits, Microprocessors, Formal Languages,\\nNetwork Technologies, Data Structures and Algorithms, Operating Systems, Programming Languages, Introduction\\nto Computer Graphics\\nFreelance, Researcher & Full Stack Developer\\n2007–Present\\nAlong with my regular jobs, I also work as a freelancer researcher/app developer if I see an awesome opportunity\\nto strengthen my abilities. Currently, I’m able to design and implement an end-to-end full-stack system that’s com-\\nposed of 1) machine learning models (working as a computation engine), 2) Async Python APIs (communicating\\nwith models, databases and frontends), 3) backends / frontends (with node.js using next.js/react) and 4) microser-\\nvice architecture (to containarize applications in a highly available environment with Docker and Kubernetes/Cloud\\nFoundry). Part-Time Developer, @ Various Companies:\\nJune 2010–September 2011\\nSoftware Developer (Mostly Python/Django Development), Egnity: I used wordpress and django to create web\\napplications answering customer needs and prepared backends for some Facebook apps using Facebook API back\\nthen. Webmaster, Istanbul Bilgi University - Computer Science Department: I designed, implemented and maintained\\na web application that’s able to stream videos of some of the computer science lectures (website once called\\nvideo.cs.bilgi.edu.tr). Webmaster, Akinon Design Studio: Here I ﬁgured out the power of Python and Django. Akinon was one of the\\nearly (Turkey-based) commercial users of Django. While contributing to the customer projects, I learned many\\nthings which I still beneﬁt from.',\n",
              "   0.0,\n",
              "   {'source': 'ugur_cekmez_cv.pdf', 'chunk_num': 2}),\n",
              "  ('Education\\nPhD. Computer Engineering, Institute of Pure and Applied Sciences, Marmara University, 2022,\\nMSc. Computer Engineering, Aeronautics and Space Technologies Institute, Turkish Air Force Academy, 2014,\\nBSc. Computer Science, Faculty of Arts and Sciences, Istanbul Bilgi University, 2012,\\nBSc. (erasmus) Computer Science, Science Faculty, Aarhus University, Denmark, 2011,\\nStudy/Work ﬁelds\\nMachine Learning, Deep Learning, Data Intelligence, Massively Parallel Systems (GPGPU), Evolutionary Computation,\\nMicroservices, Software Engineering, Software Project Management, Innovation. Computer Skills\\nProgramming and Scripting : Python, JavaScript, LATEX, Bash, CUDA C, Solidity\\nFrameworks : Tensorﬂow 2.0 for Deep Learning. React/React-Native/Next.js for full-stack/hybrid development. FastAPI\\nand Express for backend development, Docker and related container technologies for deploying apps, Redis for cache\\nand queue management, Kafka for message transmission, and pretty much the other stuff related to Machine Learning\\nSystems Engineering (MLOps)\\nUgur Cekmez, PhD\\n4\\nHonors & Awards & Investments\\n$100K pre-seed funding for Technic Intelligence, Inc. —– Certiﬁcate of Merit award for a research in 2014 2 —–\\nTUBITAK 1512 Start-up Company Investment Support, ≈$45K, November 2014 —– BSc Honor Degree, Istanbul Bilgi\\nUniversity, 2012 —– European Union Grant for Exchange Studies, Denmark, Spring 2011 —– Istanbul Bilgi University\\nScholarship for BSc, 2009-2010 —– Student Selection and Placement Center (OSYM) Scholarship for BSc, 2008–2012. Research\\nCompleted Papers\\nData-Oriented Network Attack Classiﬁcation System with Deep Learning for the Internet of Things (PhD thesis)\\nInternet of Things (IoTs) Security: Intrusion Detection using Deep Learning 3\\nDevOps Architecture in the Cloud, 4\\nNetwork Anomaly Detection with Deep Learning, 5\\nMulti-UAV Path Planning with Multi Colony Ant Optimization, 6\\nCells Classiﬁcation with Deep Learning, 7\\nMulti-UAV Path Planning with Parallel Genetic Algorithms on CUDA Architecture, 8\\nMulti Colony Ant Optimization for UAV Path Planning with Obstacle Avoidance, 9\\nControlling Moving Targets by using Unmanned Aerial Vehicles, 10\\nParallel Solution of Large Scale Traveling Salesman Problems by using Clustering and Evolutionary Algorithms, 11\\nUAV Path Planning with Parallel Genetic Algorithms on CUDA architecture, 12\\nA UAV Path Planning with Parallel ACO Algorithm on CUDA Platform, 13\\nParallel Ant Colony Optimisation for UAV Route Planning on CUDA Architecture, 14\\nAdapting the GA Approach to Solve Traveling Salesman Problems on CUDA Architecture, 15\\nAdaptive Cut Level Selection at Agglomerative Clustering Algorithms in Co-Word Analysis, 16\\nBook Chapters\\nArtiﬁcial Intelligence Studies in Health Services and Medical Images (in Turkish). 17\\nJournal & Paper Reviews\\nIEEE Access Journal, ’23\\nJournal of Web Engineering, ’21\\nICUAS ’14 - ’16 - ’17, ’20 International Conference on Unmanned Aircraft Systems, USA\\nSIU ’16 - ’17 - ’18, IEEE Conference on Signal Processing and Communications Applications, Turkey\\nNeural Computing & Applications Journal, March ’16.',\n",
              "   0.0,\n",
              "   {'source': 'ugur_cekmez_cv.pdf', 'chunk_num': 3}),\n",
              "  ('For more: LinkedIn, Github\\nps: Most of the events before 2014 has been truncated to maintain the 4 page length. 2UAV Path Planning with Parallel Genetic Algorithms on —– CUDA architecture, the World Congress on Engineering 2014, in London, U.K\\n3Published in Nov 2021, DOI: https://doi.org/10.13052/jwe1540-9589.2062\\n427th IEEE Conference on Signal Processing and Communications Applications, Sivas, Turkey, April 2019\\n526th IEEE Conference on Signal Processing and Communications Applications, ˙Izmir, Turkey, May 2018\\n617th International Conference on Intelligent Systems Design and Applications, Delhi, India, Dec 2017\\n725th IEEE Conference on Signal Processing and Communications Applications, Antalya, Turkey, May 2017\\n8Presented in ACM GECCO’16, Defense, Security, and Risk Management Workshop, Denver, Colorado, The U.S.A, July 2016\\n9Presented in ICUAS ’16, The 2016 International Conference on Unmanned Aircraft Systems, Arlington, Virginia, The U.S.A, June, 2016\\n10Presented in the 24th IEEE Conference on Signal Processing and Communications Applications, Zonguldak, Turkey. May, 2016\\n11Presented in the 24th IEEE Conference on Signal Processing and Communications Applications, Zonguldak, Turkey. May, 2016\\n12Presented in the World Congress on Engineering 2014, in London, U.K. July, 2014\\n13Presented in ICUAS ’14, The 2014 International Conference on Unmanned Aircraft Systems, Orlando, Florida, The U.S.A, May, 2014\\n14Presented in the 22th IEEE Conference on Signal Processing and Communications Applications, Trabzon, Turkey. Apr, 2014\\n15Presented in 14th IEEE International Symposium on Computational Intelligence and Informatics, Budapest, Hungary. Nov, 2013\\n16Bachelor thesis. June 05, 2012, Istanbul Bilgi University, Department of Computer Science\\n17Big Data and Open Data Analysis: Methods and Applications. Editor: Prof.',\n",
              "   0.0,\n",
              "   {'source': 'ugur_cekmez_cv.pdf', 'chunk_num': 4})]}"
            ]
          },
          "execution_count": 19,
          "metadata": {},
          "output_type": "execute_result"
        }
      ],
      "source": [
        "retrieval_augmented_qa_pipeline.run_pipeline(\"What's ugur's latest job\")"
      ]
    },
    {
      "cell_type": "markdown",
      "metadata": {},
      "source": [
        "### 🏗️ Activity #1:\n",
        "\n",
        "Enhance your RAG application in some way! \n",
        "\n",
        "Suggestions are: \n",
        "\n",
        "- Allow it to work with PDF files\n",
        "- Implement a new distance metric\n",
        "- Add metadata support to the vector database\n",
        "\n",
        "While these are suggestions, you should feel free to make whatever augmentations you desire! \n",
        "\n",
        "> NOTE: These additions might require you to work within the `aimakerspace` library - that's expected!"
      ]
    },
    {
      "cell_type": "code",
      "execution_count": null,
      "metadata": {},
      "outputs": [],
      "source": [
        "### YOUR CODE HERE\n",
        "# additions : \n",
        "#   - pdf file support added\n",
        "#   - semantic chunker added as an alternative text splitter\n",
        "\n",
        "# see the code above for the changes"
      ]
    }
  ],
  "metadata": {
    "colab": {
      "provenance": []
    },
    "kernelspec": {
      "display_name": ".venv",
      "language": "python",
      "name": "python3"
    },
    "language_info": {
      "codemirror_mode": {
        "name": "ipython",
        "version": 3
      },
      "file_extension": ".py",
      "mimetype": "text/x-python",
      "name": "python",
      "nbconvert_exporter": "python",
      "pygments_lexer": "ipython3",
      "version": "3.13.2"
    },
    "orig_nbformat": 4,
    "widgets": {
      "application/vnd.jupyter.widget-state+json": {
        "1ce393d9afcf427d9d352259c5d32678": {
          "model_module": "@jupyter-widgets/controls",
          "model_module_version": "1.5.0",
          "model_name": "FloatProgressModel",
          "state": {
            "_dom_classes": [],
            "_model_module": "@jupyter-widgets/controls",
            "_model_module_version": "1.5.0",
            "_model_name": "FloatProgressModel",
            "_view_count": null,
            "_view_module": "@jupyter-widgets/controls",
            "_view_module_version": "1.5.0",
            "_view_name": "ProgressView",
            "bar_style": "",
            "description": "",
            "description_tooltip": null,
            "layout": "IPY_MODEL_4e6efd99f7d346e485b002fb0fa85cc7",
            "max": 1,
            "min": 0,
            "orientation": "horizontal",
            "style": "IPY_MODEL_3dfb67c39958461da6071e4c19c3fa41",
            "value": 1
          }
        },
        "3a4ba348cb004f8ab7b2b1395539c81b": {
          "model_module": "@jupyter-widgets/controls",
          "model_module_version": "1.5.0",
          "model_name": "LabelModel",
          "state": {
            "_dom_classes": [],
            "_model_module": "@jupyter-widgets/controls",
            "_model_module_version": "1.5.0",
            "_model_name": "LabelModel",
            "_view_count": null,
            "_view_module": "@jupyter-widgets/controls",
            "_view_module_version": "1.5.0",
            "_view_name": "LabelView",
            "description": "",
            "description_tooltip": null,
            "layout": "IPY_MODEL_d2ea5009dd16442cb5d8a0ac468e50a8",
            "placeholder": "​",
            "style": "IPY_MODEL_5f00135fe1044051a50ee5e841cbb8e3",
            "value": "0.018 MB of 0.018 MB uploaded\r"
          }
        },
        "3dfb67c39958461da6071e4c19c3fa41": {
          "model_module": "@jupyter-widgets/controls",
          "model_module_version": "1.5.0",
          "model_name": "ProgressStyleModel",
          "state": {
            "_model_module": "@jupyter-widgets/controls",
            "_model_module_version": "1.5.0",
            "_model_name": "ProgressStyleModel",
            "_view_count": null,
            "_view_module": "@jupyter-widgets/base",
            "_view_module_version": "1.2.0",
            "_view_name": "StyleView",
            "bar_color": null,
            "description_width": ""
          }
        },
        "4e6efd99f7d346e485b002fb0fa85cc7": {
          "model_module": "@jupyter-widgets/base",
          "model_module_version": "1.2.0",
          "model_name": "LayoutModel",
          "state": {
            "_model_module": "@jupyter-widgets/base",
            "_model_module_version": "1.2.0",
            "_model_name": "LayoutModel",
            "_view_count": null,
            "_view_module": "@jupyter-widgets/base",
            "_view_module_version": "1.2.0",
            "_view_name": "LayoutView",
            "align_content": null,
            "align_items": null,
            "align_self": null,
            "border": null,
            "bottom": null,
            "display": null,
            "flex": null,
            "flex_flow": null,
            "grid_area": null,
            "grid_auto_columns": null,
            "grid_auto_flow": null,
            "grid_auto_rows": null,
            "grid_column": null,
            "grid_gap": null,
            "grid_row": null,
            "grid_template_areas": null,
            "grid_template_columns": null,
            "grid_template_rows": null,
            "height": null,
            "justify_content": null,
            "justify_items": null,
            "left": null,
            "margin": null,
            "max_height": null,
            "max_width": null,
            "min_height": null,
            "min_width": null,
            "object_fit": null,
            "object_position": null,
            "order": null,
            "overflow": null,
            "overflow_x": null,
            "overflow_y": null,
            "padding": null,
            "right": null,
            "top": null,
            "visibility": null,
            "width": null
          }
        },
        "56a8e24025594e5e9ff3b8581c344691": {
          "model_module": "@jupyter-widgets/base",
          "model_module_version": "1.2.0",
          "model_name": "LayoutModel",
          "state": {
            "_model_module": "@jupyter-widgets/base",
            "_model_module_version": "1.2.0",
            "_model_name": "LayoutModel",
            "_view_count": null,
            "_view_module": "@jupyter-widgets/base",
            "_view_module_version": "1.2.0",
            "_view_name": "LayoutView",
            "align_content": null,
            "align_items": null,
            "align_self": null,
            "border": null,
            "bottom": null,
            "display": null,
            "flex": null,
            "flex_flow": null,
            "grid_area": null,
            "grid_auto_columns": null,
            "grid_auto_flow": null,
            "grid_auto_rows": null,
            "grid_column": null,
            "grid_gap": null,
            "grid_row": null,
            "grid_template_areas": null,
            "grid_template_columns": null,
            "grid_template_rows": null,
            "height": null,
            "justify_content": null,
            "justify_items": null,
            "left": null,
            "margin": null,
            "max_height": null,
            "max_width": null,
            "min_height": null,
            "min_width": null,
            "object_fit": null,
            "object_position": null,
            "order": null,
            "overflow": null,
            "overflow_x": null,
            "overflow_y": null,
            "padding": null,
            "right": null,
            "top": null,
            "visibility": null,
            "width": null
          }
        },
        "5f00135fe1044051a50ee5e841cbb8e3": {
          "model_module": "@jupyter-widgets/controls",
          "model_module_version": "1.5.0",
          "model_name": "DescriptionStyleModel",
          "state": {
            "_model_module": "@jupyter-widgets/controls",
            "_model_module_version": "1.5.0",
            "_model_name": "DescriptionStyleModel",
            "_view_count": null,
            "_view_module": "@jupyter-widgets/base",
            "_view_module_version": "1.2.0",
            "_view_name": "StyleView",
            "description_width": ""
          }
        },
        "bb904e05ece143c79ecc4f20de482f45": {
          "model_module": "@jupyter-widgets/controls",
          "model_module_version": "1.5.0",
          "model_name": "VBoxModel",
          "state": {
            "_dom_classes": [],
            "_model_module": "@jupyter-widgets/controls",
            "_model_module_version": "1.5.0",
            "_model_name": "VBoxModel",
            "_view_count": null,
            "_view_module": "@jupyter-widgets/controls",
            "_view_module_version": "1.5.0",
            "_view_name": "VBoxView",
            "box_style": "",
            "children": [
              "IPY_MODEL_3a4ba348cb004f8ab7b2b1395539c81b",
              "IPY_MODEL_1ce393d9afcf427d9d352259c5d32678"
            ],
            "layout": "IPY_MODEL_56a8e24025594e5e9ff3b8581c344691"
          }
        },
        "d2ea5009dd16442cb5d8a0ac468e50a8": {
          "model_module": "@jupyter-widgets/base",
          "model_module_version": "1.2.0",
          "model_name": "LayoutModel",
          "state": {
            "_model_module": "@jupyter-widgets/base",
            "_model_module_version": "1.2.0",
            "_model_name": "LayoutModel",
            "_view_count": null,
            "_view_module": "@jupyter-widgets/base",
            "_view_module_version": "1.2.0",
            "_view_name": "LayoutView",
            "align_content": null,
            "align_items": null,
            "align_self": null,
            "border": null,
            "bottom": null,
            "display": null,
            "flex": null,
            "flex_flow": null,
            "grid_area": null,
            "grid_auto_columns": null,
            "grid_auto_flow": null,
            "grid_auto_rows": null,
            "grid_column": null,
            "grid_gap": null,
            "grid_row": null,
            "grid_template_areas": null,
            "grid_template_columns": null,
            "grid_template_rows": null,
            "height": null,
            "justify_content": null,
            "justify_items": null,
            "left": null,
            "margin": null,
            "max_height": null,
            "max_width": null,
            "min_height": null,
            "min_width": null,
            "object_fit": null,
            "object_position": null,
            "order": null,
            "overflow": null,
            "overflow_x": null,
            "overflow_y": null,
            "padding": null,
            "right": null,
            "top": null,
            "visibility": null,
            "width": null
          }
        }
      }
    }
  },
  "nbformat": 4,
  "nbformat_minor": 0
}
